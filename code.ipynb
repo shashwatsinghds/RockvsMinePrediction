{
  "cells": [
    {
      "cell_type": "markdown",
      "metadata": {
        "id": "cHG8kGjyivOj"
      },
      "source": [
        "## Hello World!\n"
      ]
    },
    {
      "cell_type": "code",
      "source": [
        "data= 1"
      ],
      "metadata": {
        "id": "M1-Z4sBpiy7w"
      },
      "execution_count": null,
      "outputs": []
    }
  ],
  "metadata": {
    "language_info": {
      "name": "python"
    },
    "colab": {
      "provenance": []
    }
  },
  "nbformat": 4,
  "nbformat_minor": 0
}